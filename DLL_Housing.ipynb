{
  "cells": [
    {
      "cell_type": "markdown",
      "metadata": {
        "id": "view-in-github",
        "colab_type": "text"
      },
      "source": [
        "<a href=\"https://colab.research.google.com/github/Umesh9045/LP5/blob/main/DLL_Housing.ipynb\" target=\"_parent\"><img src=\"https://colab.research.google.com/assets/colab-badge.svg\" alt=\"Open In Colab\"/></a>"
      ]
    },
    {
      "cell_type": "markdown",
      "id": "9721eeea-f15a-4dbb-bc91-13372c70a5d4",
      "metadata": {
        "id": "9721eeea-f15a-4dbb-bc91-13372c70a5d4"
      },
      "source": [
        "##### Linear regression by using Deep Neural network: Implement Boston housing price prediction problem by Linear regression using Deep Neural network. Use Boston House price prediction dataset."
      ]
    },
    {
      "cell_type": "markdown",
      "id": "90de4d8b-6d71-4473-88c0-5a2e948c79fa",
      "metadata": {
        "id": "90de4d8b-6d71-4473-88c0-5a2e948c79fa"
      },
      "source": [
        "# Imports"
      ]
    },
    {
      "cell_type": "code",
      "execution_count": 1,
      "id": "30575a3c-98c0-4b94-bcb7-95d481514281",
      "metadata": {
        "id": "30575a3c-98c0-4b94-bcb7-95d481514281"
      },
      "outputs": [],
      "source": [
        "import tensorflow as tf\n",
        "import pandas as pd\n",
        "from sklearn.preprocessing import StandardScaler\n",
        "from sklearn.model_selection import train_test_split"
      ]
    },
    {
      "cell_type": "markdown",
      "id": "f2b608f7-a725-4b49-8f76-79a0b03b29e7",
      "metadata": {
        "id": "f2b608f7-a725-4b49-8f76-79a0b03b29e7"
      },
      "source": [
        "# Exploration"
      ]
    },
    {
      "cell_type": "markdown",
      "id": "259f6331",
      "metadata": {
        "id": "259f6331"
      },
      "source": [
        "##### In this dataset, column names are not given hence no headers and values are separated by spaces, not using commas."
      ]
    },
    {
      "cell_type": "code",
      "execution_count": 8,
      "id": "351fd4a6-c41b-456c-a5ea-32d2155128d7",
      "metadata": {
        "id": "351fd4a6-c41b-456c-a5ea-32d2155128d7",
        "scrolled": true
      },
      "outputs": [],
      "source": [
        "df = pd.read_csv('housing.csv', header=None, delim_whitespace=True)\n",
        "df.columns = df.columns.astype('str')"
      ]
    },
    {
      "cell_type": "code",
      "execution_count": 9,
      "id": "f0817834-05de-43f2-853e-80f36721c781",
      "metadata": {
        "id": "f0817834-05de-43f2-853e-80f36721c781",
        "outputId": "924afd7c-b5e7-427a-9da8-6a7140b2c243",
        "colab": {
          "base_uri": "https://localhost:8080/",
          "height": 206
        }
      },
      "outputs": [
        {
          "output_type": "execute_result",
          "data": {
            "text/plain": [
              "         0     1     2  3      4      5     6       7  8      9    10      11  \\\n",
              "0  0.00632  18.0  2.31  0  0.538  6.575  65.2  4.0900  1  296.0  15.3  396.90   \n",
              "1  0.02731   0.0  7.07  0  0.469  6.421  78.9  4.9671  2  242.0  17.8  396.90   \n",
              "2  0.02729   0.0  7.07  0  0.469  7.185  61.1  4.9671  2  242.0  17.8  392.83   \n",
              "3  0.03237   0.0  2.18  0  0.458  6.998  45.8  6.0622  3  222.0  18.7  394.63   \n",
              "4  0.06905   0.0  2.18  0  0.458  7.147  54.2  6.0622  3  222.0  18.7  396.90   \n",
              "\n",
              "     12    13  \n",
              "0  4.98  24.0  \n",
              "1  9.14  21.6  \n",
              "2  4.03  34.7  \n",
              "3  2.94  33.4  \n",
              "4  5.33  36.2  "
            ],
            "text/html": [
              "\n",
              "  <div id=\"df-be547f4d-1407-49af-b709-5141a0ed4f5c\" class=\"colab-df-container\">\n",
              "    <div>\n",
              "<style scoped>\n",
              "    .dataframe tbody tr th:only-of-type {\n",
              "        vertical-align: middle;\n",
              "    }\n",
              "\n",
              "    .dataframe tbody tr th {\n",
              "        vertical-align: top;\n",
              "    }\n",
              "\n",
              "    .dataframe thead th {\n",
              "        text-align: right;\n",
              "    }\n",
              "</style>\n",
              "<table border=\"1\" class=\"dataframe\">\n",
              "  <thead>\n",
              "    <tr style=\"text-align: right;\">\n",
              "      <th></th>\n",
              "      <th>0</th>\n",
              "      <th>1</th>\n",
              "      <th>2</th>\n",
              "      <th>3</th>\n",
              "      <th>4</th>\n",
              "      <th>5</th>\n",
              "      <th>6</th>\n",
              "      <th>7</th>\n",
              "      <th>8</th>\n",
              "      <th>9</th>\n",
              "      <th>10</th>\n",
              "      <th>11</th>\n",
              "      <th>12</th>\n",
              "      <th>13</th>\n",
              "    </tr>\n",
              "  </thead>\n",
              "  <tbody>\n",
              "    <tr>\n",
              "      <th>0</th>\n",
              "      <td>0.00632</td>\n",
              "      <td>18.0</td>\n",
              "      <td>2.31</td>\n",
              "      <td>0</td>\n",
              "      <td>0.538</td>\n",
              "      <td>6.575</td>\n",
              "      <td>65.2</td>\n",
              "      <td>4.0900</td>\n",
              "      <td>1</td>\n",
              "      <td>296.0</td>\n",
              "      <td>15.3</td>\n",
              "      <td>396.90</td>\n",
              "      <td>4.98</td>\n",
              "      <td>24.0</td>\n",
              "    </tr>\n",
              "    <tr>\n",
              "      <th>1</th>\n",
              "      <td>0.02731</td>\n",
              "      <td>0.0</td>\n",
              "      <td>7.07</td>\n",
              "      <td>0</td>\n",
              "      <td>0.469</td>\n",
              "      <td>6.421</td>\n",
              "      <td>78.9</td>\n",
              "      <td>4.9671</td>\n",
              "      <td>2</td>\n",
              "      <td>242.0</td>\n",
              "      <td>17.8</td>\n",
              "      <td>396.90</td>\n",
              "      <td>9.14</td>\n",
              "      <td>21.6</td>\n",
              "    </tr>\n",
              "    <tr>\n",
              "      <th>2</th>\n",
              "      <td>0.02729</td>\n",
              "      <td>0.0</td>\n",
              "      <td>7.07</td>\n",
              "      <td>0</td>\n",
              "      <td>0.469</td>\n",
              "      <td>7.185</td>\n",
              "      <td>61.1</td>\n",
              "      <td>4.9671</td>\n",
              "      <td>2</td>\n",
              "      <td>242.0</td>\n",
              "      <td>17.8</td>\n",
              "      <td>392.83</td>\n",
              "      <td>4.03</td>\n",
              "      <td>34.7</td>\n",
              "    </tr>\n",
              "    <tr>\n",
              "      <th>3</th>\n",
              "      <td>0.03237</td>\n",
              "      <td>0.0</td>\n",
              "      <td>2.18</td>\n",
              "      <td>0</td>\n",
              "      <td>0.458</td>\n",
              "      <td>6.998</td>\n",
              "      <td>45.8</td>\n",
              "      <td>6.0622</td>\n",
              "      <td>3</td>\n",
              "      <td>222.0</td>\n",
              "      <td>18.7</td>\n",
              "      <td>394.63</td>\n",
              "      <td>2.94</td>\n",
              "      <td>33.4</td>\n",
              "    </tr>\n",
              "    <tr>\n",
              "      <th>4</th>\n",
              "      <td>0.06905</td>\n",
              "      <td>0.0</td>\n",
              "      <td>2.18</td>\n",
              "      <td>0</td>\n",
              "      <td>0.458</td>\n",
              "      <td>7.147</td>\n",
              "      <td>54.2</td>\n",
              "      <td>6.0622</td>\n",
              "      <td>3</td>\n",
              "      <td>222.0</td>\n",
              "      <td>18.7</td>\n",
              "      <td>396.90</td>\n",
              "      <td>5.33</td>\n",
              "      <td>36.2</td>\n",
              "    </tr>\n",
              "  </tbody>\n",
              "</table>\n",
              "</div>\n",
              "    <div class=\"colab-df-buttons\">\n",
              "\n",
              "  <div class=\"colab-df-container\">\n",
              "    <button class=\"colab-df-convert\" onclick=\"convertToInteractive('df-be547f4d-1407-49af-b709-5141a0ed4f5c')\"\n",
              "            title=\"Convert this dataframe to an interactive table.\"\n",
              "            style=\"display:none;\">\n",
              "\n",
              "  <svg xmlns=\"http://www.w3.org/2000/svg\" height=\"24px\" viewBox=\"0 -960 960 960\">\n",
              "    <path d=\"M120-120v-720h720v720H120Zm60-500h600v-160H180v160Zm220 220h160v-160H400v160Zm0 220h160v-160H400v160ZM180-400h160v-160H180v160Zm440 0h160v-160H620v160ZM180-180h160v-160H180v160Zm440 0h160v-160H620v160Z\"/>\n",
              "  </svg>\n",
              "    </button>\n",
              "\n",
              "  <style>\n",
              "    .colab-df-container {\n",
              "      display:flex;\n",
              "      gap: 12px;\n",
              "    }\n",
              "\n",
              "    .colab-df-convert {\n",
              "      background-color: #E8F0FE;\n",
              "      border: none;\n",
              "      border-radius: 50%;\n",
              "      cursor: pointer;\n",
              "      display: none;\n",
              "      fill: #1967D2;\n",
              "      height: 32px;\n",
              "      padding: 0 0 0 0;\n",
              "      width: 32px;\n",
              "    }\n",
              "\n",
              "    .colab-df-convert:hover {\n",
              "      background-color: #E2EBFA;\n",
              "      box-shadow: 0px 1px 2px rgba(60, 64, 67, 0.3), 0px 1px 3px 1px rgba(60, 64, 67, 0.15);\n",
              "      fill: #174EA6;\n",
              "    }\n",
              "\n",
              "    .colab-df-buttons div {\n",
              "      margin-bottom: 4px;\n",
              "    }\n",
              "\n",
              "    [theme=dark] .colab-df-convert {\n",
              "      background-color: #3B4455;\n",
              "      fill: #D2E3FC;\n",
              "    }\n",
              "\n",
              "    [theme=dark] .colab-df-convert:hover {\n",
              "      background-color: #434B5C;\n",
              "      box-shadow: 0px 1px 3px 1px rgba(0, 0, 0, 0.15);\n",
              "      filter: drop-shadow(0px 1px 2px rgba(0, 0, 0, 0.3));\n",
              "      fill: #FFFFFF;\n",
              "    }\n",
              "  </style>\n",
              "\n",
              "    <script>\n",
              "      const buttonEl =\n",
              "        document.querySelector('#df-be547f4d-1407-49af-b709-5141a0ed4f5c button.colab-df-convert');\n",
              "      buttonEl.style.display =\n",
              "        google.colab.kernel.accessAllowed ? 'block' : 'none';\n",
              "\n",
              "      async function convertToInteractive(key) {\n",
              "        const element = document.querySelector('#df-be547f4d-1407-49af-b709-5141a0ed4f5c');\n",
              "        const dataTable =\n",
              "          await google.colab.kernel.invokeFunction('convertToInteractive',\n",
              "                                                    [key], {});\n",
              "        if (!dataTable) return;\n",
              "\n",
              "        const docLinkHtml = 'Like what you see? Visit the ' +\n",
              "          '<a target=\"_blank\" href=https://colab.research.google.com/notebooks/data_table.ipynb>data table notebook</a>'\n",
              "          + ' to learn more about interactive tables.';\n",
              "        element.innerHTML = '';\n",
              "        dataTable['output_type'] = 'display_data';\n",
              "        await google.colab.output.renderOutput(dataTable, element);\n",
              "        const docLink = document.createElement('div');\n",
              "        docLink.innerHTML = docLinkHtml;\n",
              "        element.appendChild(docLink);\n",
              "      }\n",
              "    </script>\n",
              "  </div>\n",
              "\n",
              "\n",
              "<div id=\"df-febc7881-e957-4226-96fa-81366926396c\">\n",
              "  <button class=\"colab-df-quickchart\" onclick=\"quickchart('df-febc7881-e957-4226-96fa-81366926396c')\"\n",
              "            title=\"Suggest charts\"\n",
              "            style=\"display:none;\">\n",
              "\n",
              "<svg xmlns=\"http://www.w3.org/2000/svg\" height=\"24px\"viewBox=\"0 0 24 24\"\n",
              "     width=\"24px\">\n",
              "    <g>\n",
              "        <path d=\"M19 3H5c-1.1 0-2 .9-2 2v14c0 1.1.9 2 2 2h14c1.1 0 2-.9 2-2V5c0-1.1-.9-2-2-2zM9 17H7v-7h2v7zm4 0h-2V7h2v10zm4 0h-2v-4h2v4z\"/>\n",
              "    </g>\n",
              "</svg>\n",
              "  </button>\n",
              "\n",
              "<style>\n",
              "  .colab-df-quickchart {\n",
              "      --bg-color: #E8F0FE;\n",
              "      --fill-color: #1967D2;\n",
              "      --hover-bg-color: #E2EBFA;\n",
              "      --hover-fill-color: #174EA6;\n",
              "      --disabled-fill-color: #AAA;\n",
              "      --disabled-bg-color: #DDD;\n",
              "  }\n",
              "\n",
              "  [theme=dark] .colab-df-quickchart {\n",
              "      --bg-color: #3B4455;\n",
              "      --fill-color: #D2E3FC;\n",
              "      --hover-bg-color: #434B5C;\n",
              "      --hover-fill-color: #FFFFFF;\n",
              "      --disabled-bg-color: #3B4455;\n",
              "      --disabled-fill-color: #666;\n",
              "  }\n",
              "\n",
              "  .colab-df-quickchart {\n",
              "    background-color: var(--bg-color);\n",
              "    border: none;\n",
              "    border-radius: 50%;\n",
              "    cursor: pointer;\n",
              "    display: none;\n",
              "    fill: var(--fill-color);\n",
              "    height: 32px;\n",
              "    padding: 0;\n",
              "    width: 32px;\n",
              "  }\n",
              "\n",
              "  .colab-df-quickchart:hover {\n",
              "    background-color: var(--hover-bg-color);\n",
              "    box-shadow: 0 1px 2px rgba(60, 64, 67, 0.3), 0 1px 3px 1px rgba(60, 64, 67, 0.15);\n",
              "    fill: var(--button-hover-fill-color);\n",
              "  }\n",
              "\n",
              "  .colab-df-quickchart-complete:disabled,\n",
              "  .colab-df-quickchart-complete:disabled:hover {\n",
              "    background-color: var(--disabled-bg-color);\n",
              "    fill: var(--disabled-fill-color);\n",
              "    box-shadow: none;\n",
              "  }\n",
              "\n",
              "  .colab-df-spinner {\n",
              "    border: 2px solid var(--fill-color);\n",
              "    border-color: transparent;\n",
              "    border-bottom-color: var(--fill-color);\n",
              "    animation:\n",
              "      spin 1s steps(1) infinite;\n",
              "  }\n",
              "\n",
              "  @keyframes spin {\n",
              "    0% {\n",
              "      border-color: transparent;\n",
              "      border-bottom-color: var(--fill-color);\n",
              "      border-left-color: var(--fill-color);\n",
              "    }\n",
              "    20% {\n",
              "      border-color: transparent;\n",
              "      border-left-color: var(--fill-color);\n",
              "      border-top-color: var(--fill-color);\n",
              "    }\n",
              "    30% {\n",
              "      border-color: transparent;\n",
              "      border-left-color: var(--fill-color);\n",
              "      border-top-color: var(--fill-color);\n",
              "      border-right-color: var(--fill-color);\n",
              "    }\n",
              "    40% {\n",
              "      border-color: transparent;\n",
              "      border-right-color: var(--fill-color);\n",
              "      border-top-color: var(--fill-color);\n",
              "    }\n",
              "    60% {\n",
              "      border-color: transparent;\n",
              "      border-right-color: var(--fill-color);\n",
              "    }\n",
              "    80% {\n",
              "      border-color: transparent;\n",
              "      border-right-color: var(--fill-color);\n",
              "      border-bottom-color: var(--fill-color);\n",
              "    }\n",
              "    90% {\n",
              "      border-color: transparent;\n",
              "      border-bottom-color: var(--fill-color);\n",
              "    }\n",
              "  }\n",
              "</style>\n",
              "\n",
              "  <script>\n",
              "    async function quickchart(key) {\n",
              "      const quickchartButtonEl =\n",
              "        document.querySelector('#' + key + ' button');\n",
              "      quickchartButtonEl.disabled = true;  // To prevent multiple clicks.\n",
              "      quickchartButtonEl.classList.add('colab-df-spinner');\n",
              "      try {\n",
              "        const charts = await google.colab.kernel.invokeFunction(\n",
              "            'suggestCharts', [key], {});\n",
              "      } catch (error) {\n",
              "        console.error('Error during call to suggestCharts:', error);\n",
              "      }\n",
              "      quickchartButtonEl.classList.remove('colab-df-spinner');\n",
              "      quickchartButtonEl.classList.add('colab-df-quickchart-complete');\n",
              "    }\n",
              "    (() => {\n",
              "      let quickchartButtonEl =\n",
              "        document.querySelector('#df-febc7881-e957-4226-96fa-81366926396c button');\n",
              "      quickchartButtonEl.style.display =\n",
              "        google.colab.kernel.accessAllowed ? 'block' : 'none';\n",
              "    })();\n",
              "  </script>\n",
              "</div>\n",
              "    </div>\n",
              "  </div>\n"
            ],
            "application/vnd.google.colaboratory.intrinsic+json": {
              "type": "dataframe",
              "variable_name": "df",
              "summary": "{\n  \"name\": \"df\",\n  \"rows\": 506,\n  \"fields\": [\n    {\n      \"column\": \"0\",\n      \"properties\": {\n        \"dtype\": \"number\",\n        \"std\": 8.60154510533249,\n        \"min\": 0.00632,\n        \"max\": 88.9762,\n        \"num_unique_values\": 504,\n        \"samples\": [\n          0.09178,\n          0.05644,\n          0.10574\n        ],\n        \"semantic_type\": \"\",\n        \"description\": \"\"\n      }\n    },\n    {\n      \"column\": \"1\",\n      \"properties\": {\n        \"dtype\": \"number\",\n        \"std\": 23.32245299451514,\n        \"min\": 0.0,\n        \"max\": 100.0,\n        \"num_unique_values\": 26,\n        \"samples\": [\n          25.0,\n          30.0,\n          18.0\n        ],\n        \"semantic_type\": \"\",\n        \"description\": \"\"\n      }\n    },\n    {\n      \"column\": \"2\",\n      \"properties\": {\n        \"dtype\": \"number\",\n        \"std\": 6.860352940897585,\n        \"min\": 0.46,\n        \"max\": 27.74,\n        \"num_unique_values\": 76,\n        \"samples\": [\n          8.14,\n          1.47,\n          1.22\n        ],\n        \"semantic_type\": \"\",\n        \"description\": \"\"\n      }\n    },\n    {\n      \"column\": \"3\",\n      \"properties\": {\n        \"dtype\": \"number\",\n        \"std\": 0,\n        \"min\": 0,\n        \"max\": 1,\n        \"num_unique_values\": 2,\n        \"samples\": [\n          1,\n          0\n        ],\n        \"semantic_type\": \"\",\n        \"description\": \"\"\n      }\n    },\n    {\n      \"column\": \"4\",\n      \"properties\": {\n        \"dtype\": \"number\",\n        \"std\": 0.11587767566755595,\n        \"min\": 0.385,\n        \"max\": 0.871,\n        \"num_unique_values\": 81,\n        \"samples\": [\n          0.401,\n          0.538\n        ],\n        \"semantic_type\": \"\",\n        \"description\": \"\"\n      }\n    },\n    {\n      \"column\": \"5\",\n      \"properties\": {\n        \"dtype\": \"number\",\n        \"std\": 0.7026171434153233,\n        \"min\": 3.561,\n        \"max\": 8.78,\n        \"num_unique_values\": 446,\n        \"samples\": [\n          6.849,\n          4.88\n        ],\n        \"semantic_type\": \"\",\n        \"description\": \"\"\n      }\n    },\n    {\n      \"column\": \"6\",\n      \"properties\": {\n        \"dtype\": \"number\",\n        \"std\": 28.148861406903617,\n        \"min\": 2.9,\n        \"max\": 100.0,\n        \"num_unique_values\": 356,\n        \"samples\": [\n          51.8,\n          33.8\n        ],\n        \"semantic_type\": \"\",\n        \"description\": \"\"\n      }\n    },\n    {\n      \"column\": \"7\",\n      \"properties\": {\n        \"dtype\": \"number\",\n        \"std\": 2.105710126627611,\n        \"min\": 1.1296,\n        \"max\": 12.1265,\n        \"num_unique_values\": 412,\n        \"samples\": [\n          2.2955,\n          4.2515\n        ],\n        \"semantic_type\": \"\",\n        \"description\": \"\"\n      }\n    },\n    {\n      \"column\": \"8\",\n      \"properties\": {\n        \"dtype\": \"number\",\n        \"std\": 8,\n        \"min\": 1,\n        \"max\": 24,\n        \"num_unique_values\": 9,\n        \"samples\": [\n          7,\n          2\n        ],\n        \"semantic_type\": \"\",\n        \"description\": \"\"\n      }\n    },\n    {\n      \"column\": \"9\",\n      \"properties\": {\n        \"dtype\": \"number\",\n        \"std\": 168.53711605495903,\n        \"min\": 187.0,\n        \"max\": 711.0,\n        \"num_unique_values\": 66,\n        \"samples\": [\n          370.0,\n          666.0\n        ],\n        \"semantic_type\": \"\",\n        \"description\": \"\"\n      }\n    },\n    {\n      \"column\": \"10\",\n      \"properties\": {\n        \"dtype\": \"number\",\n        \"std\": 2.1649455237144406,\n        \"min\": 12.6,\n        \"max\": 22.0,\n        \"num_unique_values\": 46,\n        \"samples\": [\n          19.6,\n          15.6\n        ],\n        \"semantic_type\": \"\",\n        \"description\": \"\"\n      }\n    },\n    {\n      \"column\": \"11\",\n      \"properties\": {\n        \"dtype\": \"number\",\n        \"std\": 91.29486438415783,\n        \"min\": 0.32,\n        \"max\": 396.9,\n        \"num_unique_values\": 357,\n        \"samples\": [\n          396.24,\n          395.11\n        ],\n        \"semantic_type\": \"\",\n        \"description\": \"\"\n      }\n    },\n    {\n      \"column\": \"12\",\n      \"properties\": {\n        \"dtype\": \"number\",\n        \"std\": 7.141061511348571,\n        \"min\": 1.73,\n        \"max\": 37.97,\n        \"num_unique_values\": 455,\n        \"samples\": [\n          6.15,\n          4.32\n        ],\n        \"semantic_type\": \"\",\n        \"description\": \"\"\n      }\n    },\n    {\n      \"column\": \"13\",\n      \"properties\": {\n        \"dtype\": \"number\",\n        \"std\": 9.197104087379818,\n        \"min\": 5.0,\n        \"max\": 50.0,\n        \"num_unique_values\": 229,\n        \"samples\": [\n          14.1,\n          22.5\n        ],\n        \"semantic_type\": \"\",\n        \"description\": \"\"\n      }\n    }\n  ]\n}"
            }
          },
          "metadata": {},
          "execution_count": 9
        }
      ],
      "source": [
        "df.head()"
      ]
    },
    {
      "cell_type": "code",
      "execution_count": 12,
      "id": "860ddba4-ecca-4b36-ab7f-563fada68e4d",
      "metadata": {
        "id": "860ddba4-ecca-4b36-ab7f-563fada68e4d",
        "outputId": "5ec34936-ce20-42ba-96b2-3a8606a21824",
        "colab": {
          "base_uri": "https://localhost:8080/"
        }
      },
      "outputs": [
        {
          "output_type": "execute_result",
          "data": {
            "text/plain": [
              "(506, 14)"
            ]
          },
          "metadata": {},
          "execution_count": 12
        }
      ],
      "source": [
        "df.shape"
      ]
    },
    {
      "cell_type": "code",
      "execution_count": 13,
      "id": "24afada1-7ada-4408-a00e-7e01d4796c1b",
      "metadata": {
        "id": "24afada1-7ada-4408-a00e-7e01d4796c1b",
        "outputId": "0c8dc646-dfe7-46fa-f69e-5904e60b6794",
        "colab": {
          "base_uri": "https://localhost:8080/"
        }
      },
      "outputs": [
        {
          "output_type": "execute_result",
          "data": {
            "text/plain": [
              "0"
            ]
          },
          "metadata": {},
          "execution_count": 13
        }
      ],
      "source": [
        "df.isna().sum().sum()"
      ]
    },
    {
      "cell_type": "code",
      "execution_count": 14,
      "id": "57604c57-fdca-4383-8aad-4c42db7d7cef",
      "metadata": {
        "id": "57604c57-fdca-4383-8aad-4c42db7d7cef"
      },
      "outputs": [],
      "source": [
        "df = df.fillna(df.mean())"
      ]
    },
    {
      "cell_type": "code",
      "execution_count": 15,
      "id": "afac6301-92d8-4457-be35-8f923f7b8e0a",
      "metadata": {
        "id": "afac6301-92d8-4457-be35-8f923f7b8e0a",
        "outputId": "b57b6092-7de8-40b0-c4aa-5f52e6d7bff3",
        "colab": {
          "base_uri": "https://localhost:8080/"
        }
      },
      "outputs": [
        {
          "output_type": "execute_result",
          "data": {
            "text/plain": [
              "0"
            ]
          },
          "metadata": {},
          "execution_count": 15
        }
      ],
      "source": [
        "df.isna().sum().sum()"
      ]
    },
    {
      "cell_type": "markdown",
      "id": "413fdd91-ea62-48ab-bd4c-f53d520d3b8c",
      "metadata": {
        "id": "413fdd91-ea62-48ab-bd4c-f53d520d3b8c"
      },
      "source": [
        "# Removing Outliers"
      ]
    },
    {
      "cell_type": "code",
      "execution_count": 23,
      "id": "ce2f7a6d-8adc-4593-a908-9dcc91591494",
      "metadata": {
        "id": "ce2f7a6d-8adc-4593-a908-9dcc91591494"
      },
      "outputs": [],
      "source": [
        "Q1 = df.quantile(0.25)\n",
        "Q3 = df.quantile(0.75)\n",
        "IQR = Q3 - Q1\n",
        "\n",
        "outliers = ((df < (Q1 - 1.5 * IQR)) | (df > (Q3 + 1.5 * IQR))).any(axis=1)\n",
        "df = df[~outliers]"
      ]
    },
    {
      "cell_type": "markdown",
      "id": "e66d77f7-f86e-48f2-9be4-9d26fb7baa46",
      "metadata": {
        "id": "e66d77f7-f86e-48f2-9be4-9d26fb7baa46"
      },
      "source": [
        "# Scaling and Splitting"
      ]
    },
    {
      "cell_type": "code",
      "execution_count": 24,
      "id": "9dd9d998-4e4a-4c02-ae27-237ec0ef355f",
      "metadata": {
        "id": "9dd9d998-4e4a-4c02-ae27-237ec0ef355f"
      },
      "outputs": [],
      "source": [
        "X, y = df.drop(['13'], axis=1), df['13']"
      ]
    },
    {
      "cell_type": "code",
      "execution_count": 25,
      "id": "eb944032-abe3-41db-86d9-05114819b172",
      "metadata": {
        "id": "eb944032-abe3-41db-86d9-05114819b172"
      },
      "outputs": [],
      "source": [
        "sc = StandardScaler()\n",
        "X_scaled = sc.fit_transform(X)"
      ]
    },
    {
      "cell_type": "code",
      "execution_count": 26,
      "id": "36dbb03d-c72c-4ff9-b586-3e111bc6db10",
      "metadata": {
        "id": "36dbb03d-c72c-4ff9-b586-3e111bc6db10"
      },
      "outputs": [],
      "source": [
        "X_train, X_test, y_train, y_test = train_test_split(X_scaled, y, test_size=0.1, random_state=41)"
      ]
    },
    {
      "cell_type": "code",
      "execution_count": 27,
      "id": "21be4c0f-a29f-4384-9891-4eae80afe301",
      "metadata": {
        "id": "21be4c0f-a29f-4384-9891-4eae80afe301",
        "outputId": "779bcbdb-6cc2-4684-9f16-d820cb03c208",
        "colab": {
          "base_uri": "https://localhost:8080/"
        }
      },
      "outputs": [
        {
          "output_type": "execute_result",
          "data": {
            "text/plain": [
              "(84, 13)"
            ]
          },
          "metadata": {},
          "execution_count": 27
        }
      ],
      "source": [
        "X_train.shape"
      ]
    },
    {
      "cell_type": "markdown",
      "id": "f0a9c7d8-7321-48c4-8f67-e7ea4dd02650",
      "metadata": {
        "id": "f0a9c7d8-7321-48c4-8f67-e7ea4dd02650"
      },
      "source": [
        "# One layer NN for Linear Regression"
      ]
    },
    {
      "cell_type": "code",
      "execution_count": 28,
      "id": "12923ffc-09d1-427b-9fd8-50864e41039f",
      "metadata": {
        "id": "12923ffc-09d1-427b-9fd8-50864e41039f"
      },
      "outputs": [],
      "source": [
        "model = tf.keras.Sequential([\n",
        "    tf.keras.layers.Dense(1, input_shape=(X_train.shape[1],))\n",
        "])"
      ]
    },
    {
      "cell_type": "code",
      "execution_count": 29,
      "id": "c0a7206c-97a5-4065-9bf6-241968f5a703",
      "metadata": {
        "id": "c0a7206c-97a5-4065-9bf6-241968f5a703"
      },
      "outputs": [],
      "source": [
        "model.compile(optimizer=tf.keras.optimizers.Adam(learning_rate=.1), loss='mse')"
      ]
    },
    {
      "cell_type": "code",
      "execution_count": 30,
      "id": "cc67fcb0-6e44-4db7-ae4b-7dec1c854790",
      "metadata": {
        "id": "cc67fcb0-6e44-4db7-ae4b-7dec1c854790",
        "outputId": "72fd4c01-0f06-4bb0-b071-7e4ba78d2453",
        "colab": {
          "base_uri": "https://localhost:8080/"
        }
      },
      "outputs": [
        {
          "output_type": "stream",
          "name": "stdout",
          "text": [
            "Epoch 1/100\n",
            "3/3 [==============================] - 0s 7ms/step - loss: 485.7727\n",
            "Epoch 2/100\n",
            "3/3 [==============================] - 0s 4ms/step - loss: 469.4725\n",
            "Epoch 3/100\n",
            "3/3 [==============================] - 0s 4ms/step - loss: 455.4751\n",
            "Epoch 4/100\n",
            "3/3 [==============================] - 0s 3ms/step - loss: 442.0687\n",
            "Epoch 5/100\n",
            "3/3 [==============================] - 0s 4ms/step - loss: 429.6930\n",
            "Epoch 6/100\n",
            "3/3 [==============================] - 0s 5ms/step - loss: 417.2042\n",
            "Epoch 7/100\n",
            "3/3 [==============================] - 0s 4ms/step - loss: 404.8936\n",
            "Epoch 8/100\n",
            "3/3 [==============================] - 0s 3ms/step - loss: 393.4273\n",
            "Epoch 9/100\n",
            "3/3 [==============================] - 0s 4ms/step - loss: 381.7273\n",
            "Epoch 10/100\n",
            "3/3 [==============================] - 0s 4ms/step - loss: 370.6512\n",
            "Epoch 11/100\n",
            "3/3 [==============================] - 0s 4ms/step - loss: 359.1441\n",
            "Epoch 12/100\n",
            "3/3 [==============================] - 0s 3ms/step - loss: 348.6038\n",
            "Epoch 13/100\n",
            "3/3 [==============================] - 0s 4ms/step - loss: 338.0126\n",
            "Epoch 14/100\n",
            "3/3 [==============================] - 0s 4ms/step - loss: 327.4809\n",
            "Epoch 15/100\n",
            "3/3 [==============================] - 0s 5ms/step - loss: 318.1911\n",
            "Epoch 16/100\n",
            "3/3 [==============================] - 0s 5ms/step - loss: 307.8558\n",
            "Epoch 17/100\n",
            "3/3 [==============================] - 0s 4ms/step - loss: 298.2227\n",
            "Epoch 18/100\n",
            "3/3 [==============================] - 0s 3ms/step - loss: 288.7642\n",
            "Epoch 19/100\n",
            "3/3 [==============================] - 0s 4ms/step - loss: 279.7172\n",
            "Epoch 20/100\n",
            "3/3 [==============================] - 0s 4ms/step - loss: 270.8548\n",
            "Epoch 21/100\n",
            "3/3 [==============================] - 0s 3ms/step - loss: 262.1728\n",
            "Epoch 22/100\n",
            "3/3 [==============================] - 0s 3ms/step - loss: 253.5650\n",
            "Epoch 23/100\n",
            "3/3 [==============================] - 0s 4ms/step - loss: 245.3779\n",
            "Epoch 24/100\n",
            "3/3 [==============================] - 0s 5ms/step - loss: 237.3013\n",
            "Epoch 25/100\n",
            "3/3 [==============================] - 0s 4ms/step - loss: 229.7088\n",
            "Epoch 26/100\n",
            "3/3 [==============================] - 0s 4ms/step - loss: 222.0152\n",
            "Epoch 27/100\n",
            "3/3 [==============================] - 0s 6ms/step - loss: 214.6108\n",
            "Epoch 28/100\n",
            "3/3 [==============================] - 0s 4ms/step - loss: 207.2053\n",
            "Epoch 29/100\n",
            "3/3 [==============================] - 0s 4ms/step - loss: 200.1502\n",
            "Epoch 30/100\n",
            "3/3 [==============================] - 0s 4ms/step - loss: 193.2282\n",
            "Epoch 31/100\n",
            "3/3 [==============================] - 0s 4ms/step - loss: 186.7518\n",
            "Epoch 32/100\n",
            "3/3 [==============================] - 0s 4ms/step - loss: 180.3049\n",
            "Epoch 33/100\n",
            "3/3 [==============================] - 0s 4ms/step - loss: 174.0760\n",
            "Epoch 34/100\n",
            "3/3 [==============================] - 0s 4ms/step - loss: 168.1388\n",
            "Epoch 35/100\n",
            "3/3 [==============================] - 0s 4ms/step - loss: 161.9921\n",
            "Epoch 36/100\n",
            "3/3 [==============================] - 0s 4ms/step - loss: 156.2851\n",
            "Epoch 37/100\n",
            "3/3 [==============================] - 0s 4ms/step - loss: 150.6589\n",
            "Epoch 38/100\n",
            "3/3 [==============================] - 0s 4ms/step - loss: 145.2585\n",
            "Epoch 39/100\n",
            "3/3 [==============================] - 0s 4ms/step - loss: 139.9163\n",
            "Epoch 40/100\n",
            "3/3 [==============================] - 0s 4ms/step - loss: 135.1109\n",
            "Epoch 41/100\n",
            "3/3 [==============================] - 0s 4ms/step - loss: 130.0011\n",
            "Epoch 42/100\n",
            "3/3 [==============================] - 0s 4ms/step - loss: 125.1562\n",
            "Epoch 43/100\n",
            "3/3 [==============================] - 0s 4ms/step - loss: 120.5329\n",
            "Epoch 44/100\n",
            "3/3 [==============================] - 0s 4ms/step - loss: 115.9886\n",
            "Epoch 45/100\n",
            "3/3 [==============================] - 0s 4ms/step - loss: 111.7411\n",
            "Epoch 46/100\n",
            "3/3 [==============================] - 0s 4ms/step - loss: 107.5370\n",
            "Epoch 47/100\n",
            "3/3 [==============================] - 0s 4ms/step - loss: 103.5587\n",
            "Epoch 48/100\n",
            "3/3 [==============================] - 0s 4ms/step - loss: 99.5451\n",
            "Epoch 49/100\n",
            "3/3 [==============================] - 0s 4ms/step - loss: 95.6786\n",
            "Epoch 50/100\n",
            "3/3 [==============================] - 0s 4ms/step - loss: 91.9501\n",
            "Epoch 51/100\n",
            "3/3 [==============================] - 0s 4ms/step - loss: 88.4532\n",
            "Epoch 52/100\n",
            "3/3 [==============================] - 0s 4ms/step - loss: 85.1177\n",
            "Epoch 53/100\n",
            "3/3 [==============================] - 0s 4ms/step - loss: 81.5784\n",
            "Epoch 54/100\n",
            "3/3 [==============================] - 0s 4ms/step - loss: 78.4111\n",
            "Epoch 55/100\n",
            "3/3 [==============================] - 0s 4ms/step - loss: 75.2439\n",
            "Epoch 56/100\n",
            "3/3 [==============================] - 0s 4ms/step - loss: 72.2490\n",
            "Epoch 57/100\n",
            "3/3 [==============================] - 0s 4ms/step - loss: 69.3621\n",
            "Epoch 58/100\n",
            "3/3 [==============================] - 0s 4ms/step - loss: 66.5610\n",
            "Epoch 59/100\n",
            "3/3 [==============================] - 0s 4ms/step - loss: 63.9307\n",
            "Epoch 60/100\n",
            "3/3 [==============================] - 0s 4ms/step - loss: 61.2485\n",
            "Epoch 61/100\n",
            "3/3 [==============================] - 0s 3ms/step - loss: 58.7495\n",
            "Epoch 62/100\n",
            "3/3 [==============================] - 0s 3ms/step - loss: 56.4187\n",
            "Epoch 63/100\n",
            "3/3 [==============================] - 0s 4ms/step - loss: 54.0024\n",
            "Epoch 64/100\n",
            "3/3 [==============================] - 0s 3ms/step - loss: 51.7530\n",
            "Epoch 65/100\n",
            "3/3 [==============================] - 0s 5ms/step - loss: 49.5601\n",
            "Epoch 66/100\n",
            "3/3 [==============================] - 0s 3ms/step - loss: 47.5196\n",
            "Epoch 67/100\n",
            "3/3 [==============================] - 0s 4ms/step - loss: 45.5289\n",
            "Epoch 68/100\n",
            "3/3 [==============================] - 0s 4ms/step - loss: 43.5948\n",
            "Epoch 69/100\n",
            "3/3 [==============================] - 0s 4ms/step - loss: 41.7226\n",
            "Epoch 70/100\n",
            "3/3 [==============================] - 0s 4ms/step - loss: 39.9619\n",
            "Epoch 71/100\n",
            "3/3 [==============================] - 0s 5ms/step - loss: 38.2898\n",
            "Epoch 72/100\n",
            "3/3 [==============================] - 0s 5ms/step - loss: 36.6791\n",
            "Epoch 73/100\n",
            "3/3 [==============================] - 0s 4ms/step - loss: 35.1143\n",
            "Epoch 74/100\n",
            "3/3 [==============================] - 0s 4ms/step - loss: 33.5740\n",
            "Epoch 75/100\n",
            "3/3 [==============================] - 0s 4ms/step - loss: 32.1169\n",
            "Epoch 76/100\n",
            "3/3 [==============================] - 0s 4ms/step - loss: 30.6972\n",
            "Epoch 77/100\n",
            "3/3 [==============================] - 0s 4ms/step - loss: 29.3742\n",
            "Epoch 78/100\n",
            "3/3 [==============================] - 0s 4ms/step - loss: 28.1063\n",
            "Epoch 79/100\n",
            "3/3 [==============================] - 0s 4ms/step - loss: 26.8967\n",
            "Epoch 80/100\n",
            "3/3 [==============================] - 0s 4ms/step - loss: 25.7599\n",
            "Epoch 81/100\n",
            "3/3 [==============================] - 0s 4ms/step - loss: 24.5944\n",
            "Epoch 82/100\n",
            "3/3 [==============================] - 0s 4ms/step - loss: 23.5327\n",
            "Epoch 83/100\n",
            "3/3 [==============================] - 0s 6ms/step - loss: 22.4970\n",
            "Epoch 84/100\n",
            "3/3 [==============================] - 0s 5ms/step - loss: 21.5814\n",
            "Epoch 85/100\n",
            "3/3 [==============================] - 0s 4ms/step - loss: 20.6016\n",
            "Epoch 86/100\n",
            "3/3 [==============================] - 0s 5ms/step - loss: 19.7331\n",
            "Epoch 87/100\n",
            "3/3 [==============================] - 0s 4ms/step - loss: 18.8512\n",
            "Epoch 88/100\n",
            "3/3 [==============================] - 0s 4ms/step - loss: 18.0945\n",
            "Epoch 89/100\n",
            "3/3 [==============================] - 0s 5ms/step - loss: 17.3087\n",
            "Epoch 90/100\n",
            "3/3 [==============================] - 0s 4ms/step - loss: 16.5869\n",
            "Epoch 91/100\n",
            "3/3 [==============================] - 0s 4ms/step - loss: 15.8567\n",
            "Epoch 92/100\n",
            "3/3 [==============================] - 0s 4ms/step - loss: 15.2465\n",
            "Epoch 93/100\n",
            "3/3 [==============================] - 0s 4ms/step - loss: 14.5334\n",
            "Epoch 94/100\n",
            "3/3 [==============================] - 0s 4ms/step - loss: 13.9254\n",
            "Epoch 95/100\n",
            "3/3 [==============================] - 0s 4ms/step - loss: 13.3365\n",
            "Epoch 96/100\n",
            "3/3 [==============================] - 0s 4ms/step - loss: 12.8200\n",
            "Epoch 97/100\n",
            "3/3 [==============================] - 0s 4ms/step - loss: 12.2325\n",
            "Epoch 98/100\n",
            "3/3 [==============================] - 0s 4ms/step - loss: 11.7347\n",
            "Epoch 99/100\n",
            "3/3 [==============================] - 0s 4ms/step - loss: 11.2485\n",
            "Epoch 100/100\n",
            "3/3 [==============================] - 0s 4ms/step - loss: 10.7893\n"
          ]
        },
        {
          "output_type": "execute_result",
          "data": {
            "text/plain": [
              "<keras.src.callbacks.History at 0x7880bc7aa200>"
            ]
          },
          "metadata": {},
          "execution_count": 30
        }
      ],
      "source": [
        "model.fit(X_train, y_train, epochs=100, batch_size=32, verbose=1)"
      ]
    },
    {
      "cell_type": "code",
      "execution_count": 31,
      "id": "22cc998b-f324-4c0e-a952-8893c5654982",
      "metadata": {
        "id": "22cc998b-f324-4c0e-a952-8893c5654982",
        "outputId": "85d9bff7-44c3-40d8-e7b6-2ace11d489b3",
        "colab": {
          "base_uri": "https://localhost:8080/"
        }
      },
      "outputs": [
        {
          "output_type": "stream",
          "name": "stdout",
          "text": [
            "1/1 [==============================] - 0s 178ms/step - loss: 6.1730\n"
          ]
        },
        {
          "output_type": "execute_result",
          "data": {
            "text/plain": [
              "6.173033237457275"
            ]
          },
          "metadata": {},
          "execution_count": 31
        }
      ],
      "source": [
        "model.evaluate(X_test, y_test)"
      ]
    }
  ],
  "metadata": {
    "colab": {
      "provenance": [],
      "include_colab_link": true
    },
    "kernelspec": {
      "display_name": "Python 3 (ipykernel)",
      "language": "python",
      "name": "python3"
    },
    "language_info": {
      "codemirror_mode": {
        "name": "ipython",
        "version": 3
      },
      "file_extension": ".py",
      "mimetype": "text/x-python",
      "name": "python",
      "nbconvert_exporter": "python",
      "pygments_lexer": "ipython3",
      "version": "3.10.6"
    }
  },
  "nbformat": 4,
  "nbformat_minor": 5
}