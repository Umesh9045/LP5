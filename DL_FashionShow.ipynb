{
  "cells": [
    {
      "cell_type": "markdown",
      "metadata": {
        "id": "view-in-github",
        "colab_type": "text"
      },
      "source": [
        "<a href=\"https://colab.research.google.com/github/Umesh9045/LP5/blob/main/DL_FashionShow.ipynb\" target=\"_parent\"><img src=\"https://colab.research.google.com/assets/colab-badge.svg\" alt=\"Open In Colab\"/></a>"
      ]
    },
    {
      "cell_type": "markdown",
      "id": "9721eeea-f15a-4dbb-bc91-13372c70a5d4",
      "metadata": {
        "id": "9721eeea-f15a-4dbb-bc91-13372c70a5d4"
      },
      "source": [
        "##### Convolutional neural network (CNN)\n",
        "• Use MNIST Fashion Dataset and create a classifier to classify fashion clothing into categories."
      ]
    },
    {
      "cell_type": "markdown",
      "id": "90de4d8b-6d71-4473-88c0-5a2e948c79fa",
      "metadata": {
        "id": "90de4d8b-6d71-4473-88c0-5a2e948c79fa"
      },
      "source": [
        "# Imports"
      ]
    },
    {
      "cell_type": "code",
      "execution_count": null,
      "id": "30575a3c-98c0-4b94-bcb7-95d481514281",
      "metadata": {
        "id": "30575a3c-98c0-4b94-bcb7-95d481514281"
      },
      "outputs": [],
      "source": [
        "import tensorflow as tf\n",
        "from tensorflow.keras.datasets import fashion_mnist\n",
        "from tensorflow.keras.utils import to_categorical\n",
        "from tensorflow.keras import layers, models"
      ]
    },
    {
      "cell_type": "markdown",
      "id": "8e0f8071-ab03-4d30-96c9-f909b91e9a14",
      "metadata": {
        "id": "8e0f8071-ab03-4d30-96c9-f909b91e9a14"
      },
      "source": [
        "# Loading the Dataset"
      ]
    },
    {
      "cell_type": "code",
      "execution_count": null,
      "id": "c77c2494-8e2c-4892-988a-959fd37edca9",
      "metadata": {
        "id": "c77c2494-8e2c-4892-988a-959fd37edca9"
      },
      "outputs": [],
      "source": [
        "(X_train, y_train), (X_test, y_test) = fashion_mnist.load_data()"
      ]
    },
    {
      "cell_type": "markdown",
      "id": "f2b608f7-a725-4b49-8f76-79a0b03b29e7",
      "metadata": {
        "id": "f2b608f7-a725-4b49-8f76-79a0b03b29e7"
      },
      "source": [
        "# Normalize the pixel values to range [0,1]"
      ]
    },
    {
      "cell_type": "code",
      "execution_count": null,
      "id": "7f2324d0-97a4-4c2e-9b45-dd482465964b",
      "metadata": {
        "id": "7f2324d0-97a4-4c2e-9b45-dd482465964b"
      },
      "outputs": [],
      "source": [
        "X_train = X_train.astype('float32') / 255.0\n",
        "X_test = X_test.astype('float32') / 255.0"
      ]
    },
    {
      "cell_type": "markdown",
      "id": "74356397-951c-4e25-826c-9f27c1ec355a",
      "metadata": {
        "id": "74356397-951c-4e25-826c-9f27c1ec355a"
      },
      "source": [
        "# Grayscale - single channel reshaping"
      ]
    },
    {
      "cell_type": "code",
      "execution_count": null,
      "id": "75b5f72b-883e-458c-9786-d333fb5dbbab",
      "metadata": {
        "id": "75b5f72b-883e-458c-9786-d333fb5dbbab"
      },
      "outputs": [],
      "source": [
        "X_train = X_train.reshape((-1, 28, 28, 1))\n",
        "X_test = X_test.reshape((-1, 28, 28, 1))"
      ]
    },
    {
      "cell_type": "code",
      "execution_count": null,
      "id": "519a1314-110a-4762-bfa8-048243ad50f4",
      "metadata": {
        "id": "519a1314-110a-4762-bfa8-048243ad50f4",
        "outputId": "03a36dec-5f97-456c-ecbb-35123b783ed7"
      },
      "outputs": [
        {
          "data": {
            "text/plain": [
              "(60000, 28, 28, 1)"
            ]
          },
          "execution_count": 6,
          "metadata": {},
          "output_type": "execute_result"
        }
      ],
      "source": [
        "X_train.shape"
      ]
    },
    {
      "cell_type": "markdown",
      "id": "48b666ca-e0af-4185-b9c0-ba3be17c0dc2",
      "metadata": {
        "id": "48b666ca-e0af-4185-b9c0-ba3be17c0dc2"
      },
      "source": [
        "# Converting y into 10 classes"
      ]
    },
    {
      "cell_type": "code",
      "execution_count": null,
      "id": "fb7f21ec-990f-4621-bc5b-7acaac8b08a0",
      "metadata": {
        "id": "fb7f21ec-990f-4621-bc5b-7acaac8b08a0"
      },
      "outputs": [],
      "source": [
        "y_train = to_categorical(y_train, num_classes=10)\n",
        "y_test = to_categorical(y_test, num_classes=10)"
      ]
    },
    {
      "cell_type": "markdown",
      "id": "ebfd1251-2762-42d0-b3ab-30e26af97b97",
      "metadata": {
        "id": "ebfd1251-2762-42d0-b3ab-30e26af97b97"
      },
      "source": [
        "# Model Architecture"
      ]
    },
    {
      "cell_type": "code",
      "execution_count": null,
      "id": "5381aa04-5b60-4131-9062-de5b57a1710a",
      "metadata": {
        "id": "5381aa04-5b60-4131-9062-de5b57a1710a"
      },
      "outputs": [],
      "source": [
        "model = models.Sequential([\n",
        "    layers.Conv2D(256, (3, 3), activation='relu', input_shape=(28, 28, 1)),\n",
        "    layers.MaxPooling2D((2, 2)),\n",
        "    layers.Conv2D(128, (3, 3), activation='relu'),\n",
        "    layers.MaxPooling2D((2, 2)),\n",
        "    layers.Conv2D(64, (3, 3), activation='relu'),\n",
        "    layers.Flatten(),\n",
        "    layers.Dense(64, activation='relu'),\n",
        "    layers.Dense(10, activation='softmax')  # 10 classes\n",
        "])"
      ]
    },
    {
      "cell_type": "code",
      "execution_count": null,
      "id": "351fd4a6-c41b-456c-a5ea-32d2155128d7",
      "metadata": {
        "id": "351fd4a6-c41b-456c-a5ea-32d2155128d7"
      },
      "outputs": [],
      "source": [
        "model.compile(optimizer='adam', loss='categorical_crossentropy', metrics=['accuracy'])"
      ]
    },
    {
      "cell_type": "code",
      "execution_count": null,
      "id": "f0817834-05de-43f2-853e-80f36721c781",
      "metadata": {
        "id": "f0817834-05de-43f2-853e-80f36721c781",
        "outputId": "cd0bbb30-d2c6-478f-e9ea-8c8ea7bcd949"
      },
      "outputs": [
        {
          "name": "stderr",
          "output_type": "stream",
          "text": [
            "2024-04-10 07:36:20.600111: W tensorflow/tsl/framework/cpu_allocator_impl.cc:83] Allocation of 169344000 exceeds 10% of free system memory.\n"
          ]
        },
        {
          "name": "stdout",
          "output_type": "stream",
          "text": [
            "Epoch 1/10\n",
            "1688/1688 [==============================] - 269s 158ms/step - loss: 0.4719 - accuracy: 0.8268 - val_loss: 0.3446 - val_accuracy: 0.8712\n",
            "Epoch 2/10\n",
            "1688/1688 [==============================] - 244s 145ms/step - loss: 0.3036 - accuracy: 0.8898 - val_loss: 0.3248 - val_accuracy: 0.8817\n",
            "Epoch 3/10\n",
            "1688/1688 [==============================] - 228s 135ms/step - loss: 0.2616 - accuracy: 0.9042 - val_loss: 0.3057 - val_accuracy: 0.8868\n",
            "Epoch 4/10\n",
            "1688/1688 [==============================] - 228s 135ms/step - loss: 0.2297 - accuracy: 0.9145 - val_loss: 0.2681 - val_accuracy: 0.9008\n",
            "Epoch 5/10\n",
            "1688/1688 [==============================] - 229s 135ms/step - loss: 0.1994 - accuracy: 0.9254 - val_loss: 0.2721 - val_accuracy: 0.9050\n",
            "Epoch 6/10\n",
            "1688/1688 [==============================] - 228s 135ms/step - loss: 0.1788 - accuracy: 0.9329 - val_loss: 0.2667 - val_accuracy: 0.9032\n",
            "Epoch 7/10\n",
            "1688/1688 [==============================] - 229s 136ms/step - loss: 0.1589 - accuracy: 0.9416 - val_loss: 0.2702 - val_accuracy: 0.9092\n",
            "Epoch 8/10\n",
            "1688/1688 [==============================] - 229s 136ms/step - loss: 0.1407 - accuracy: 0.9466 - val_loss: 0.2628 - val_accuracy: 0.9098\n",
            "Epoch 9/10\n",
            "1688/1688 [==============================] - 230s 136ms/step - loss: 0.1272 - accuracy: 0.9519 - val_loss: 0.2741 - val_accuracy: 0.9118\n",
            "Epoch 10/10\n",
            "1688/1688 [==============================] - 230s 136ms/step - loss: 0.1116 - accuracy: 0.9576 - val_loss: 0.2830 - val_accuracy: 0.9133\n"
          ]
        },
        {
          "data": {
            "text/plain": [
              "<keras.src.callbacks.History at 0x7fd24c3290c0>"
            ]
          },
          "execution_count": 11,
          "metadata": {},
          "output_type": "execute_result"
        }
      ],
      "source": [
        "model.fit(X_train, y_train, epochs=10, batch_size=32, validation_split=0.1)"
      ]
    },
    {
      "cell_type": "code",
      "execution_count": null,
      "id": "2ebea9e4-9dc3-4531-a0e4-b6544caf396b",
      "metadata": {
        "id": "2ebea9e4-9dc3-4531-a0e4-b6544caf396b",
        "outputId": "a9d1a3be-2642-4515-ab51-2cb318d7dbda"
      },
      "outputs": [
        {
          "name": "stdout",
          "output_type": "stream",
          "text": [
            "313/313 [==============================] - 9s 29ms/step - loss: 0.2985 - accuracy: 0.9103\n"
          ]
        },
        {
          "data": {
            "text/plain": [
              "0.9103000164031982"
            ]
          },
          "execution_count": 12,
          "metadata": {},
          "output_type": "execute_result"
        }
      ],
      "source": [
        "loss, accuracy = model.evaluate(X_test, y_test)\n",
        "accuracy"
      ]
    }
  ],
  "metadata": {
    "kernelspec": {
      "display_name": "Python 3 (ipykernel)",
      "language": "python",
      "name": "python3"
    },
    "language_info": {
      "codemirror_mode": {
        "name": "ipython",
        "version": 3
      },
      "file_extension": ".py",
      "mimetype": "text/x-python",
      "name": "python",
      "nbconvert_exporter": "python",
      "pygments_lexer": "ipython3",
      "version": "3.10.6"
    },
    "colab": {
      "provenance": [],
      "include_colab_link": true
    }
  },
  "nbformat": 4,
  "nbformat_minor": 5
}