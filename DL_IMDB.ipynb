{
  "cells": [
    {
      "cell_type": "markdown",
      "metadata": {
        "id": "view-in-github",
        "colab_type": "text"
      },
      "source": [
        "<a href=\"https://colab.research.google.com/github/Umesh9045/LP5/blob/main/DL_IMDB.ipynb\" target=\"_parent\"><img src=\"https://colab.research.google.com/assets/colab-badge.svg\" alt=\"Open In Colab\"/></a>"
      ]
    },
    {
      "cell_type": "markdown",
      "id": "9721eeea-f15a-4dbb-bc91-13372c70a5d4",
      "metadata": {
        "id": "9721eeea-f15a-4dbb-bc91-13372c70a5d4"
      },
      "source": [
        "### Classification using Deep neural network:\n",
        "##### 2. Binary classification using Deep Neural Networks Example: Classify movie reviews into positive\" reviews and \"negative\" reviews, just based on the text content of the reviews. Use IMDB dataset.\n",
        "https://www.kaggle.com/datasets/lakshmi25npathi/imdb-dataset-of-50k-movie-reviews"
      ]
    },
    {
      "cell_type": "code",
      "execution_count": null,
      "id": "d53fcba9",
      "metadata": {
        "id": "d53fcba9"
      },
      "outputs": [],
      "source": [
        "import numpy as np\n",
        "from tensorflow import keras\n",
        "from tensorflow.keras.datasets import imdb\n",
        "from tensorflow.keras.models import Sequential\n",
        "from tensorflow.keras.layers import Dense, Dropout, Embedding, Flatten"
      ]
    },
    {
      "cell_type": "code",
      "execution_count": null,
      "id": "dc16dc36",
      "metadata": {
        "id": "dc16dc36"
      },
      "outputs": [],
      "source": [
        "# Set parameters\n",
        "max_words = 10000 # Consider only the top 10,000 most frequently occurring words\n",
        "max_length = 250 # Limit the review length to 250 words\n",
        "embedding_size = 50 # Dimensionality of the word embeddings"
      ]
    },
    {
      "cell_type": "code",
      "execution_count": null,
      "id": "2ae4b3fe",
      "metadata": {
        "id": "2ae4b3fe"
      },
      "outputs": [],
      "source": [
        "# Load the IMDB dataset\n",
        "(x_train, y_train), (x_test, y_test) = imdb.load_data(num_words=10000)"
      ]
    },
    {
      "cell_type": "code",
      "execution_count": null,
      "id": "96f740b7",
      "metadata": {
        "id": "96f740b7"
      },
      "outputs": [],
      "source": [
        "# Preprocess the data\n",
        "#following function transforms a list of sequences into a 2D Numpy array\n",
        "x_train = keras.preprocessing.sequence.pad_sequences(x_train, maxlen=250)\n",
        "x_test = keras.preprocessing.sequence.pad_sequences(x_test, maxlen=250)"
      ]
    },
    {
      "cell_type": "code",
      "execution_count": null,
      "id": "a4ce16fa",
      "metadata": {
        "id": "a4ce16fa"
      },
      "outputs": [],
      "source": [
        "# Build the model\n",
        "model = Sequential()\n",
        "#The Embedding layer is defined as the first hidden layer of a network.\n",
        "model.add(Embedding(max_words, embedding_size, input_length=max_length))\n",
        "#If you wish to connect a Dense layer directly to an Embedding layer, you must first flatten the 2D output matrix to a 1D vector using the Flatten layer.\n",
        "model.add(Flatten())\n",
        "model.add(Dense(128, activation='relu'))\n",
        "model.add(Dropout(0.5))\n",
        "model.add(Dense(1, activation='sigmoid'))"
      ]
    },
    {
      "cell_type": "code",
      "execution_count": null,
      "id": "268cce9a",
      "metadata": {
        "id": "268cce9a"
      },
      "outputs": [],
      "source": [
        "# Compile the model\n",
        "model.compile(loss='binary_crossentropy', optimizer='adam', metrics=['accuracy'])"
      ]
    },
    {
      "cell_type": "code",
      "execution_count": null,
      "id": "49a46160",
      "metadata": {
        "id": "49a46160",
        "outputId": "21dd817b-3953-4094-c34e-4ab1b3a57fe8"
      },
      "outputs": [
        {
          "name": "stdout",
          "output_type": "stream",
          "text": [
            "782/782 [==============================] - 36s 44ms/step - loss: 0.3948 - accuracy: 0.8087 - val_loss: 0.2971 - val_accuracy: 0.8750\n"
          ]
        },
        {
          "data": {
            "text/plain": [
              "<keras.src.callbacks.History at 0x7f25e1333670>"
            ]
          },
          "execution_count": 35,
          "metadata": {},
          "output_type": "execute_result"
        }
      ],
      "source": [
        "model.fit(x_train, y_train, batch_size=32, epochs=1, validation_data=(x_test, y_test))"
      ]
    },
    {
      "cell_type": "code",
      "execution_count": null,
      "id": "c8d3b601",
      "metadata": {
        "id": "c8d3b601",
        "outputId": "c72de9d0-31f2-4f29-b8fe-0432c34543ee"
      },
      "outputs": [
        {
          "name": "stdout",
          "output_type": "stream",
          "text": [
            "782/782 [==============================] - 6s 7ms/step - loss: 0.2971 - accuracy: 0.8750\n",
            "Test Loss: 0.29705914855003357\n",
            "Test Accuracy: 0.8750399947166443\n"
          ]
        }
      ],
      "source": [
        "# Evaluate the model\n",
        "loss, accuracy = model.evaluate(x_test, y_test)\n",
        "print(\"Test Loss:\", loss)\n",
        "print(\"Test Accuracy:\", accuracy)"
      ]
    }
  ],
  "metadata": {
    "kernelspec": {
      "display_name": "Python 3 (ipykernel)",
      "language": "python",
      "name": "python3"
    },
    "language_info": {
      "codemirror_mode": {
        "name": "ipython",
        "version": 3
      },
      "file_extension": ".py",
      "mimetype": "text/x-python",
      "name": "python",
      "nbconvert_exporter": "python",
      "pygments_lexer": "ipython3",
      "version": "3.10.6"
    },
    "colab": {
      "provenance": [],
      "include_colab_link": true
    }
  },
  "nbformat": 4,
  "nbformat_minor": 5
}