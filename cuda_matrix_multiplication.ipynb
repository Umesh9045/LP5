{
  "nbformat": 4,
  "nbformat_minor": 0,
  "metadata": {
    "colab": {
      "provenance": [],
      "gpuType": "T4",
      "include_colab_link": true
    },
    "kernelspec": {
      "name": "python3",
      "display_name": "Python 3"
    },
    "language_info": {
      "name": "python"
    },
    "accelerator": "GPU"
  },
  "cells": [
    {
      "cell_type": "markdown",
      "metadata": {
        "id": "view-in-github",
        "colab_type": "text"
      },
      "source": [
        "<a href=\"https://colab.research.google.com/github/Umesh9045/LP5/blob/main/cuda_matrix_multiplication.ipynb\" target=\"_parent\"><img src=\"https://colab.research.google.com/assets/colab-badge.svg\" alt=\"Open In Colab\"/></a>"
      ]
    },
    {
      "cell_type": "code",
      "source": [
        "!pip install git+https://github.com/andreinechaev/nvcc4jupyter.git"
      ],
      "metadata": {
        "colab": {
          "base_uri": "https://localhost:8080/"
        },
        "id": "4VtdGdFQc7Ml",
        "outputId": "e47098d3-7966-4331-db70-485d264ffe6a"
      },
      "execution_count": 1,
      "outputs": [
        {
          "output_type": "stream",
          "name": "stdout",
          "text": [
            "Collecting git+https://github.com/andreinechaev/nvcc4jupyter.git\n",
            "  Cloning https://github.com/andreinechaev/nvcc4jupyter.git to /tmp/pip-req-build-ekivt84_\n",
            "  Running command git clone --filter=blob:none --quiet https://github.com/andreinechaev/nvcc4jupyter.git /tmp/pip-req-build-ekivt84_\n",
            "  Resolved https://github.com/andreinechaev/nvcc4jupyter.git to commit 5741c522547756ac4bb7a16df32106a15efb8a57\n",
            "  Installing build dependencies ... \u001b[?25l\u001b[?25hdone\n",
            "  Getting requirements to build wheel ... \u001b[?25l\u001b[?25hdone\n",
            "  Preparing metadata (pyproject.toml) ... \u001b[?25l\u001b[?25hdone\n",
            "Building wheels for collected packages: nvcc4jupyter\n",
            "  Building wheel for nvcc4jupyter (pyproject.toml) ... \u001b[?25l\u001b[?25hdone\n",
            "  Created wheel for nvcc4jupyter: filename=nvcc4jupyter-1.2.1-py3-none-any.whl size=10741 sha256=1c43b610d84440f376c57bb0b3d20f87e2433fdb6f06eb98d5fd7c81c461a971\n",
            "  Stored in directory: /tmp/pip-ephem-wheel-cache-vp5yriw5/wheels/a8/b9/18/23f8ef71ceb0f63297dd1903aedd067e6243a68ea756d6feea\n",
            "Successfully built nvcc4jupyter\n",
            "Installing collected packages: nvcc4jupyter\n",
            "Successfully installed nvcc4jupyter-1.2.1\n"
          ]
        }
      ]
    },
    {
      "cell_type": "code",
      "source": [
        "!nvcc --version"
      ],
      "metadata": {
        "id": "0hh1WyesdNZu",
        "colab": {
          "base_uri": "https://localhost:8080/"
        },
        "outputId": "73ce2c51-26f2-423a-d7bd-3a06b7f28efc"
      },
      "execution_count": 2,
      "outputs": [
        {
          "output_type": "stream",
          "name": "stdout",
          "text": [
            "nvcc: NVIDIA (R) Cuda compiler driver\n",
            "Copyright (c) 2005-2023 NVIDIA Corporation\n",
            "Built on Tue_Aug_15_22:02:13_PDT_2023\n",
            "Cuda compilation tools, release 12.2, V12.2.140\n",
            "Build cuda_12.2.r12.2/compiler.33191640_0\n"
          ]
        }
      ]
    },
    {
      "cell_type": "code",
      "source": [
        "pip install nvcc4jupyter"
      ],
      "metadata": {
        "colab": {
          "base_uri": "https://localhost:8080/"
        },
        "id": "CgVtVI-1FBTA",
        "outputId": "d36c85a1-975b-483e-c849-37cd72282a90"
      },
      "execution_count": 3,
      "outputs": [
        {
          "output_type": "stream",
          "name": "stdout",
          "text": [
            "Requirement already satisfied: nvcc4jupyter in /usr/local/lib/python3.10/dist-packages (1.2.1)\n"
          ]
        }
      ]
    },
    {
      "cell_type": "code",
      "source": [
        "%load_ext nvcc4jupyter"
      ],
      "metadata": {
        "colab": {
          "base_uri": "https://localhost:8080/"
        },
        "id": "bXxwwuRqFNNc",
        "outputId": "b3737efb-aa38-4d76-cec4-7ab930c2effe"
      },
      "execution_count": 4,
      "outputs": [
        {
          "output_type": "stream",
          "name": "stdout",
          "text": [
            "Detected platform \"Colab\". Running its setup...\n",
            "Source files will be saved in \"/tmp/tmp33ieu_za\".\n"
          ]
        }
      ]
    },
    {
      "cell_type": "code",
      "source": [],
      "metadata": {
        "id": "555CvktCFcE9"
      },
      "execution_count": null,
      "outputs": []
    },
    {
      "cell_type": "code",
      "source": [
        "%%cuda\n",
        "\n",
        "#include <iostream>\n",
        "\n",
        "using namespace std;\n",
        "\n",
        "__global__ void matrixMultiplication(int *a, int *b, int *c) {\n",
        "    int row = threadIdx.y;\n",
        "    int col = threadIdx.x;\n",
        "\n",
        "    // Perform matrix multiplication for 2x2 matrices\n",
        "    c[row * 2 + col] = a[row * 2] * b[col] + a[row * 2 + 1] * b[2 + col];\n",
        "}\n",
        "\n",
        "int main() {\n",
        "    // Define the matrices\n",
        "    int a[2][2] = {{1, 2}, {3, 4}};\n",
        "    int b[2][2] = {{5, 6}, {7, 8}};\n",
        "    int c[2][2]; // Result matrix\n",
        "\n",
        "    // cudaMalloc function is used allocate memory on the GPU (device memory)\n",
        "    int *dev_a, *dev_b, *dev_c;\n",
        "    cudaMalloc((void**)&dev_a, sizeof(int) * 2 * 2);\n",
        "    cudaMalloc((void**)&dev_b, sizeof(int) * 2 * 2);\n",
        "    cudaMalloc((void**)&dev_c, sizeof(int) * 2 * 2);\n",
        "\n",
        "    // Copy matrices from host to device\n",
        "    cudaMemcpy(dev_a, a, sizeof(int) * 2 * 2, cudaMemcpyHostToDevice);\n",
        "    cudaMemcpy(dev_b, b, sizeof(int) * 2 * 2, cudaMemcpyHostToDevice);\n",
        "\n",
        "    // Launch kernel\n",
        "    dim3 threadsPerBlock(2, 2);\n",
        "    matrixMultiplication<<<1, threadsPerBlock>>>(dev_a, dev_b, dev_c);\n",
        "\n",
        "    // Copy result matrix from device to host\n",
        "    cudaMemcpy(c, dev_c, sizeof(int) * 2 * 2, cudaMemcpyDeviceToHost);\n",
        "\n",
        "    // Print the result matrix\n",
        "    cout << \"Resultant Matrix:\" << endl;\n",
        "    for (int i = 0; i < 2; ++i) {\n",
        "        for (int j = 0; j < 2; ++j) {\n",
        "            cout << c[i][j] << \" \";\n",
        "        }\n",
        "        cout << endl;\n",
        "    }\n",
        "\n",
        "    // Free device memory\n",
        "    cudaFree(dev_a);\n",
        "    cudaFree(dev_b);\n",
        "    cudaFree(dev_c);\n",
        "\n",
        "    return 0;\n",
        "}\n"
      ],
      "metadata": {
        "id": "1bMukendcVUR",
        "colab": {
          "base_uri": "https://localhost:8080/"
        },
        "outputId": "b2cc8185-8e0c-48e5-f130-70b55320b669"
      },
      "execution_count": 7,
      "outputs": [
        {
          "output_type": "stream",
          "name": "stdout",
          "text": [
            "Resultant Matrix:\n",
            "19 22 \n",
            "43 50 \n",
            "\n"
          ]
        }
      ]
    }
  ]
}